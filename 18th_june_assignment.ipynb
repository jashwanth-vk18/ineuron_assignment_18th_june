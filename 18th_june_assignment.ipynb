{
 "cells": [
  {
   "cell_type": "markdown",
   "id": "3752ba26",
   "metadata": {},
   "source": [
    "# 1. What is the role of the 'else' block in a try-except statement? Provide an example scenario where it would be useful."
   ]
  },
  {
   "cell_type": "markdown",
   "id": "664dc58c",
   "metadata": {},
   "source": [
    "The 'else' block in a try-except statement is optional and is executed only if no exceptions occur in the corresponding try block. It allows you to specify code that should run when the try block completes successfully. An example scenario where the 'else' block would be useful is when you want to perform certain actions only if no exceptions are raised. For instance:"
   ]
  },
  {
   "cell_type": "code",
   "execution_count": 1,
   "id": "2eca72fb",
   "metadata": {},
   "outputs": [
    {
     "name": "stdout",
     "output_type": "stream",
     "text": [
      "The division was successful. Result: 5.0\n"
     ]
    }
   ],
   "source": [
    "try:\n",
    "    result = 10 / 2\n",
    "except ZeroDivisionError:\n",
    "    print(\"Cannot divide by zero!\")\n",
    "else:\n",
    "    print(\"The division was successful. Result:\", result)\n"
   ]
  },
  {
   "cell_type": "markdown",
   "id": "122e593f",
   "metadata": {},
   "source": [
    "In this example, if no ZeroDivisionError occurs, the code inside the 'else' block will be executed, printing the successful division result."
   ]
  },
  {
   "cell_type": "markdown",
   "id": "c40b2c7e",
   "metadata": {},
   "source": [
    "# 2. Can a try-except block be nested inside another try-except block? Explain with an example."
   ]
  },
  {
   "cell_type": "markdown",
   "id": "9654d4c0",
   "metadata": {},
   "source": [
    "Yes, a try-except block can be nested inside another try-except block. This is known as nested exception handling. It allows you to handle different types of exceptions at different levels of your code. Here's an example"
   ]
  },
  {
   "cell_type": "code",
   "execution_count": 2,
   "id": "3449c670",
   "metadata": {},
   "outputs": [
    {
     "name": "stdout",
     "output_type": "stream",
     "text": [
      "Cannot divide by zero!\n"
     ]
    }
   ],
   "source": [
    "try:\n",
    "    try:\n",
    "        result = 10 / 0\n",
    "    except ZeroDivisionError:\n",
    "        print(\"Cannot divide by zero!\")\n",
    "except Exception as e:\n",
    "    print(\"An error occurred:\", str(e))\n"
   ]
  },
  {
   "cell_type": "markdown",
   "id": "2f36569f",
   "metadata": {},
   "source": [
    "In this example, the inner try-except block handles the ZeroDivisionError, and the outer try-except block handles any other exceptions that may occur."
   ]
  },
  {
   "cell_type": "markdown",
   "id": "01541b26",
   "metadata": {},
   "source": [
    "# 3. How can you create a custom exception class in Python? Provide an example that demonstrates its usage."
   ]
  },
  {
   "cell_type": "markdown",
   "id": "0d7d969b",
   "metadata": {},
   "source": [
    "To create a custom exception class in Python, you can define a new class that inherits from the built-in Exception class or any of its subclasses. Here's an example:"
   ]
  },
  {
   "cell_type": "code",
   "execution_count": 3,
   "id": "b9bc6b1f",
   "metadata": {},
   "outputs": [
    {
     "name": "stdout",
     "output_type": "stream",
     "text": [
      "Custom exception occurred: This is a custom exception.\n"
     ]
    }
   ],
   "source": [
    "class CustomException(Exception):\n",
    "    pass\n",
    "\n",
    "# Usage example\n",
    "try:\n",
    "    raise CustomException(\"This is a custom exception.\")\n",
    "except CustomException as e:\n",
    "    print(\"Custom exception occurred:\", str(e))\n"
   ]
  },
  {
   "cell_type": "markdown",
   "id": "65bdd1a2",
   "metadata": {},
   "source": [
    "In this example, we define a custom exception class called CustomException. We can then raise an instance of this class and handle it using a try-except block."
   ]
  },
  {
   "cell_type": "markdown",
   "id": "096f6f7d",
   "metadata": {},
   "source": [
    "# 4. What are some common exceptions that are built-in to Python?"
   ]
  },
  {
   "cell_type": "markdown",
   "id": "15f03030",
   "metadata": {},
   "source": [
    "Python has several common built-in exceptions, including:\n",
    "ZeroDivisionError: Raised when dividing by zero.\n",
    "TypeError: Raised when an operation or function is applied to an object of an inappropriate type.\n",
    "ValueError: Raised when a function receives an argument of the correct type but an inappropriate value.\n",
    "FileNotFoundError: Raised when a file or directory is requested but cannot be found.\n",
    "IndexError: Raised when a sequence subscript is out of range."
   ]
  },
  {
   "cell_type": "markdown",
   "id": "4f04a4e1",
   "metadata": {},
   "source": [
    "# 5. What is logging in Python, and why is it important in software development?"
   ]
  },
  {
   "cell_type": "markdown",
   "id": "a3b25669",
   "metadata": {},
   "source": [
    "Logging in Python is a mechanism used to record events, messages, and errors that occur during the execution of a program. It allows developers to track and analyze the behavior of their software.\n",
    "\n",
    "Logging is important in software development because it provides a systematic way to collect information about the program's execution, making it easier to debug issues, monitor performance, and analyze user behavior."
   ]
  },
  {
   "cell_type": "markdown",
   "id": "4bbc0ee1",
   "metadata": {},
   "source": [
    "# 6. Explain the purpose of log levels in Python logging and provide examples of when each log level would be appropriate."
   ]
  },
  {
   "cell_type": "markdown",
   "id": "83a5660b",
   "metadata": {},
   "source": [
    "Log levels in Python logging define the severity or importance of a log message. They help categorize log messages based on their significance. Some commonly used log levels are:\n",
    "\n",
    "DEBUG: Detailed information, typically used for debugging purposes.\n",
    "INFO: General information about the program's execution.\n",
    "WARNING: Indicates a potential issue or something that might cause problems.\n",
    "ERROR: Indicates an error that caused the program to fail to perform a function.\n",
    "CRITICAL: Indicates a critical error that may lead to the termination of the program.\n",
    "\n",
    "For example, you can set the log level to DEBUG during development to see detailed information, but in production, you might set it to INFO to reduce the amount of log output."
   ]
  },
  {
   "cell_type": "markdown",
   "id": "4bf95a1d",
   "metadata": {},
   "source": [
    "# 7. What are log formatters in Python logging, and how can you customise the log message format using formatters?"
   ]
  },
  {
   "cell_type": "markdown",
   "id": "bcb10c8b",
   "metadata": {},
   "source": [
    "Log formatters in Python logging define the structure and format of log messages. They allow you to customize how log messages are displayed, including the timestamp, log level, message, and other relevant information. \n",
    "\n",
    "You can use predefined formatters or create your own. Here's an example:"
   ]
  },
  {
   "cell_type": "code",
   "execution_count": 4,
   "id": "63c5a42e",
   "metadata": {},
   "outputs": [],
   "source": [
    "import logging\n",
    "\n",
    "# Create a logger\n",
    "logger = logging.getLogger(\"my_logger\")\n",
    "logger.setLevel(logging.INFO)\n",
    "\n",
    "# Create a formatter\n",
    "formatter = logging.Formatter(\"%(asctime)s - %(levelname)s - %(message)s\")\n",
    "\n",
    "# Create a file handler and set the formatter\n",
    "file_handler = logging.FileHandler(\"my_log_file.log\")\n",
    "file_handler.setFormatter(formatter)\n",
    "\n",
    "# Add the file handler to the logger\n",
    "logger.addHandler(file_handler)\n",
    "\n",
    "# Log a message\n",
    "logger.info(\"This is an informational message.\")\n"
   ]
  },
  {
   "cell_type": "markdown",
   "id": "e4c36d8c",
   "metadata": {},
   "source": [
    "In this example, we create a logger named \"my_logger\" and set its log level to INFO. We then create a formatter that includes the timestamp, log level, and message.\n",
    "\n",
    "Finally, we create a file handler, associate it with the formatter, and add it to the logger. The log message will be formatted according to the specified format."
   ]
  },
  {
   "cell_type": "markdown",
   "id": "4ab81ecf",
   "metadata": {},
   "source": [
    "# 8 .How can you set up logging to capture log messages from multiple modules or classes in a Python application? "
   ]
  },
  {
   "cell_type": "markdown",
   "id": "b012df78",
   "metadata": {},
   "source": [
    "To capture log messages from multiple modules or classes in a Python application, you can use a logger hierarchy. By creating loggers with different names and configuring them appropriately,\n",
    "\n",
    "you can control the logging behavior for different parts of your application. Here's an example:"
   ]
  },
  {
   "cell_type": "code",
   "execution_count": 5,
   "id": "53b74970",
   "metadata": {},
   "outputs": [],
   "source": [
    "import logging\n",
    "\n",
    "# Create a logger for module A\n",
    "logger_a = logging.getLogger(\"module_a\")\n",
    "logger_a.setLevel(logging.INFO)\n",
    "\n",
    "# Create a logger for module B\n",
    "logger_b = logging.getLogger(\"module_b\")\n",
    "logger_b.setLevel(logging.DEBUG)\n",
    "\n",
    "# Configure handlers and formatters for each logger\n",
    "# ...\n",
    "\n",
    "# Log messages from module A\n",
    "logger_a.info(\"This is a message from module A.\")\n",
    "\n",
    "# Log messages from module B\n",
    "logger_b.debug(\"This is a debug message from module B.\")\n"
   ]
  },
  {
   "cell_type": "markdown",
   "id": "c74e614a",
   "metadata": {},
   "source": [
    "In this example, we create two loggers, logger_a and logger_b, with different names. Each logger can have its own log level, handlers, and formatters. \n",
    "By using different logger names, you can differentiate log messages from different parts of your application."
   ]
  },
  {
   "cell_type": "markdown",
   "id": "700c735d",
   "metadata": {},
   "source": [
    "# 9. What is the difference between the logging and print statements in Python? When should you use logging over print statements in a real-world application?"
   ]
  },
  {
   "cell_type": "markdown",
   "id": "dd7a501b",
   "metadata": {},
   "source": [
    "The main difference between the logging and print statements in Python is their purpose and usage. The print statement is primarily used for displaying information during program execution, especially for debugging purposes. \n",
    "\n",
    "On the other hand, logging is a more sophisticated and flexible mechanism for recording events, messages, and errors.\n",
    "\n",
    "In a real-world application, it is generally recommended to use logging over print statements for several reasons:\n",
    "Logging allows you to control the level of detail and verbosity of the output.\n",
    "\n",
    "Log messages can be directed to different outputs (e.g., console, file, database) without modifying the code.\n",
    "\n",
    "Logging provides a standardized way to record and analyze program behavior, making it easier to debug and monitor applications.\n",
    "\n",
    "Log messages can include additional contextual information, such as timestamps, log levels, and source module or class names."
   ]
  },
  {
   "cell_type": "markdown",
   "id": "6ddf63e9",
   "metadata": {},
   "source": [
    "# 10. Write a Python program that logs a message to a file named \"app.log\" with the following requirements:● The log message should be \"Hello, World!\"● The log level should be set to \"INFO.\" ● The log file should append new log entries without overwriting previous ones."
   ]
  },
  {
   "cell_type": "code",
   "execution_count": 6,
   "id": "f9a5dbc0",
   "metadata": {},
   "outputs": [],
   "source": [
    "import logging\n",
    "\n",
    "# Configure the logger\n",
    "logging.basicConfig(filename=\"app.log\", level=logging.INFO)\n",
    "\n",
    "# Log the message\n",
    "logging.info(\"Hello, World!\")\n"
   ]
  },
  {
   "cell_type": "markdown",
   "id": "4da415cc",
   "metadata": {},
   "source": [
    "In this program, we configure the logger to write log messages to the \"app.log\" file with the log level set to INFO. We then log the message \"Hello, World!\" using the logging.info() method."
   ]
  },
  {
   "cell_type": "markdown",
   "id": "5aae2d9f",
   "metadata": {},
   "source": [
    "# 11. Create a Python program that logs an error message to the console and a file named \"errors.log\" if an exception occurs during the program's execution. The error message should include the exception type and a timestamp."
   ]
  },
  {
   "cell_type": "markdown",
   "id": "e127b67c",
   "metadata": {},
   "source": [
    "Here's a Python program that logs an error message to the console and a file named \"errors.log\" if an exception occurs during the program's execution. The error message includes the exception type and a timestamp:"
   ]
  },
  {
   "cell_type": "code",
   "execution_count": 7,
   "id": "738e3cb9",
   "metadata": {},
   "outputs": [
    {
     "name": "stdout",
     "output_type": "stream",
     "text": [
      "An error occurred. Please check the 'errors.log' file for details.\n"
     ]
    }
   ],
   "source": [
    "import logging\n",
    "import datetime\n",
    "\n",
    "# Configure the logger\n",
    "logging.basicConfig(filename=\"errors.log\", level=logging.ERROR)\n",
    "\n",
    "try:\n",
    "    # Your program code here\n",
    "    # ...\n",
    "\n",
    "    # Simulating an exception\n",
    "    raise ValueError(\"An error occurred!\")\n",
    "\n",
    "except Exception as e:\n",
    "    # Log the error message\n",
    "    error_message = f\"Exception: {type(e).__name__}, Timestamp: {datetime.datetime.now()}\"\n",
    "    logging.error(error_message)\n",
    "    print(\"An error occurred. Please check the 'errors.log' file for details.\")\n"
   ]
  },
  {
   "cell_type": "markdown",
   "id": "8cefdb99",
   "metadata": {},
   "source": [
    "In this program, we configure the logger to write log messages with the log level set to ERROR to the \"errors.log\" file. Inside the try-except block, \n",
    "\n",
    "we simulate an exception and log the error message, which includes the exception type and the current timestamp. Additionally, we print a message to the console to inform the user about the error and the log file where they can find more details."
   ]
  },
  {
   "cell_type": "code",
   "execution_count": null,
   "id": "f6f95a62",
   "metadata": {},
   "outputs": [],
   "source": []
  }
 ],
 "metadata": {
  "kernelspec": {
   "display_name": "Python 3 (ipykernel)",
   "language": "python",
   "name": "python3"
  },
  "language_info": {
   "codemirror_mode": {
    "name": "ipython",
    "version": 3
   },
   "file_extension": ".py",
   "mimetype": "text/x-python",
   "name": "python",
   "nbconvert_exporter": "python",
   "pygments_lexer": "ipython3",
   "version": "3.10.9"
  }
 },
 "nbformat": 4,
 "nbformat_minor": 5
}
